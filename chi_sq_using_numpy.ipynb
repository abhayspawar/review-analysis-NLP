{
 "cells": [
  {
   "cell_type": "code",
   "execution_count": null,
   "metadata": {
    "collapsed": true
   },
   "outputs": [],
   "source": [
    "def aspectSegmentationChiSquared(reviews, seeds, vocab=[], threshold=0, iterationLimit=3):\n",
    "    #when we have the top chi-squared rated keywords, how many do we take\n",
    "    keywordsToTake = 3\n",
    "    \n",
    "    #bootstrap iterations\n",
    "    \n",
    "    sent_tokenized_reviews = [nltk.tokenize.sent_tokenize(r.decode('utf-8')) for r in reviews]\n",
    "    sentences = [sentence for r in sent_tokenized_reviews for sentence in r]\n",
    "    \n",
    "    vectorizer = sk.feature_extraction.text.CountVectorizer(min_df = 0, binary=True,\n",
    "                                                        ngram_range=(1,1),token_pattern = r'[a-zA-Z]{3,}',\n",
    "                                                        stop_words=nltk.corpus.stopwords.words('english'))\n",
    "    X = vectorizer.fit_transform(sentences)\n",
    "    X = X.toarray() #convert sparse array to array\n",
    "    \n",
    "    for i in range(0, iterationLimit):\n",
    "        \n",
    "        for aspect in seeds:\n",
    "            seed_indices = [vectorizer.vocabulary_[word] for word in seeds[aspect] if vectorizer.vocabulary_.get(word) != None]\n",
    "            row_mask = np.logical_or.reduce(X[:,seed_indices].T)\n",
    "            sentences_with_aspect = X[row_mask,:]\n",
    "            sentences_without_aspect = X[~row_mask,:]\n",
    "            c_1 = np.sum(sentences_with_aspect,axis=0)\n",
    "            c_2 = np.sum(sentences_without_aspect, axis=0)\n",
    "            c_3 = len(sentences_with_aspect) - c_1\n",
    "            c_4 = len(sentences_without_aspect) - c_2\n",
    "            \n",
    "            numer = 1.0*((c_1*c_4 - c_2 * c_3)**2)\n",
    "            denom = 1.0*(c_1 + c_3)*(c_2 + c_4)*(c_1 + c_2)*(c_3 + c_4)\n",
    "            \n",
    "            csq = numer / denom\n",
    "            \n",
    "            count = 0\n",
    "            sorted_indices = np.argsort(csq)[::-1]\n",
    "            for x in sorted_indices:\n",
    "                word = vectorizer.get_feature_names()[x]\n",
    "                if word not in seeds[aspect]:\n",
    "                    seeds[aspect].append(word)\n",
    "                    count += 1\n",
    "                if count == keywordsToTake:\n",
    "                    break\n",
    "                    \n",
    "    return seeds"
   ]
  }
 ],
 "metadata": {
  "kernelspec": {
   "display_name": "Python [Root]",
   "language": "python",
   "name": "Python [Root]"
  },
  "language_info": {
   "codemirror_mode": {
    "name": "ipython",
    "version": 2
   },
   "file_extension": ".py",
   "mimetype": "text/x-python",
   "name": "python",
   "nbconvert_exporter": "python",
   "pygments_lexer": "ipython2",
   "version": "2.7.12"
  }
 },
 "nbformat": 4,
 "nbformat_minor": 0
}
