{
 "cells": [
  {
   "cell_type": "code",
   "execution_count": 1,
   "metadata": {
    "collapsed": true
   },
   "outputs": [],
   "source": [
    "def getKeywords(freq_threshold = 10, prob_threshold = 0.5, words_per_iter = 5, iters = 3):\n",
    "    \n",
    "    sent_tokenized_reviews =  data['Content'].apply(lambda x: x.decode('utf-8')).apply(nltk.tokenize.sent_tokenize)\n",
    "    sentences = [sentence for review in sent_tokenized_reviews for sentence in review]\n",
    "\n",
    "    vectorizer = sk.feature_extraction.text.CountVectorizer(min_df = freq_threshold, binary=True,\n",
    "                                                        ngram_range=(1,1),token_pattern = r'[a-zA-Z]{3,}',\n",
    "                                                        stop_words=nltk.corpus.stopwords.words('english'))\n",
    "    X = vectorizer.fit_transform(sentences)\n",
    "    X = X.toarray() #convert sparse array to array\n",
    "\n",
    "    seeds =  {\"Value\" : [\"value\", \"price\", \"quality\",\"worth\"],\n",
    "              \"Rooms\" : [\"room\", \"suite\", \"view\", \"bed\"],\n",
    "              \"Location\" : [\"location\", \"traffic\", \"minute\", \"restaurant\"],\n",
    "              \"Cleanliness\" : [\"clean\", \"dirty\", \"maintain\", \"smell\"],\n",
    "              \"Check in / front desk\": [\"stuff\", \"check\", \"help\", \"reservation\"],\n",
    "              \"Service\" : [\"service\", \"food\", \"breakfast\", \"buffet\"],\n",
    "              \"Business service\" : [\"business\", \"center\", \"computer\", \"internet\"]\n",
    "             }\n",
    "    \n",
    "    count_sents_with_word = np.sum(X,axis=0) # works because binary\n",
    "    \n",
    "    # find Probability(sentence(S) has aspect(A) GIVEN S has word(W)) = count(S that have A and have W) / count(S that have W)\n",
    "\n",
    "    for i in range(iters):\n",
    "        for aspect in seeds:\n",
    "\n",
    "            # if condition ensures code runs even if seed word not in our corpus by some chance\n",
    "            seed_indices = [vectorizer.vocabulary_[word] for word in seeds[aspect] if vectorizer.vocabulary_.get(word) != None]\n",
    "            count_sents_with_asp = np.sum(np.logical_or.reduce(X[:,seed_indices].T))\n",
    "            count_sents_with_word_asp = np.sum(X[np.logical_or.reduce(X[:,seed_indices].T),:],axis=0)\n",
    "\n",
    "            prob_asp_given_word = count_sents_with_word_asp.astype(float)/count_sents_with_word\n",
    "            sorted_indices = np.argsort(prob_asp_given_word)[::-1]\n",
    "            count = 0\n",
    "            for j in sorted_indices:\n",
    "                if count > words_per_iter or prob_asp_given_word[j] < prob_threshold:\n",
    "                    break\n",
    "                else:\n",
    "                    if vectorizer.get_feature_names()[j] not in seeds[aspect]:\n",
    "                        seeds[aspect].append(vectorizer.get_feature_names()[j])\n",
    "                        count += 1\n",
    "    return seeds"
   ]
  }
 ],
 "metadata": {
  "kernelspec": {
   "display_name": "Python [Root]",
   "language": "python",
   "name": "Python [Root]"
  },
  "language_info": {
   "codemirror_mode": {
    "name": "ipython",
    "version": 2
   },
   "file_extension": ".py",
   "mimetype": "text/x-python",
   "name": "python",
   "nbconvert_exporter": "python",
   "pygments_lexer": "ipython2",
   "version": "2.7.12"
  }
 },
 "nbformat": 4,
 "nbformat_minor": 0
}
