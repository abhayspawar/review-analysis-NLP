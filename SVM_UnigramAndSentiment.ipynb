{
 "cells": [
  {
   "cell_type": "code",
   "execution_count": 5,
   "metadata": {
    "collapsed": false,
    "scrolled": true
   },
   "outputs": [],
   "source": [
    "from Sentiment_analysis import *\n",
    "import ast\n",
    "import string\n",
    "import sklearn.feature_extraction\n",
    "from sklearn.model_selection import train_test_split\n",
    "from sklearn.svm import LinearSVC\n",
    "import pandas as pd\n",
    "import numpy as np"
   ]
  },
  {
   "cell_type": "code",
   "execution_count": 6,
   "metadata": {
    "collapsed": false
   },
   "outputs": [],
   "source": [
    "train = pd.read_csv('trainRooms.csv')\n",
    "# Clone aspectSentences because TFIDF and Sentiment scoring requires different formats of strings\n",
    "train['aspectSentences2'] = train['aspectSentences'].copy()\n",
    "train['aspectSentences'] = train['aspectSentences'].apply(ast.literal_eval)"
   ]
  },
  {
   "cell_type": "code",
   "execution_count": 7,
   "metadata": {
    "collapsed": true
   },
   "outputs": [],
   "source": [
    "# To get balanced dataset\n",
    "mins = train['aspectRating'].value_counts().min()\n",
    "train_balanced = train.groupby(\"aspectRating\").apply(lambda x: x.sample(n=mins))"
   ]
  },
  {
   "cell_type": "code",
   "execution_count": 8,
   "metadata": {
    "collapsed": true
   },
   "outputs": [],
   "source": [
    "# Get sentiment score\n",
    "train_balanced = train_balanced.apply(addSentimentScores, axis = 1)\n",
    "X_senti = train_balanced.iloc[:,6:]"
   ]
  },
  {
   "cell_type": "code",
   "execution_count": 9,
   "metadata": {
    "collapsed": true
   },
   "outputs": [],
   "source": [
    "def custom_tokenizer(review):  \n",
    "    review = review.encode('ascii',errors='ignore')\n",
    "    review = review.translate(None,string.punctuation)\n",
    "    words = nltk.tokenize.word_tokenize(review)\n",
    "    words = [nltk.stem.porter.PorterStemmer().stem(word) for word in words]\n",
    "    # stop words removed by vectorizer\n",
    "    \n",
    "    return words"
   ]
  },
  {
   "cell_type": "code",
   "execution_count": 10,
   "metadata": {
    "collapsed": true
   },
   "outputs": [],
   "source": [
    "TfidVect = sklearn.feature_extraction.text.TfidfVectorizer(min_df=10, ngram_range=(1,2), tokenizer = custom_tokenizer,\n",
    "                                                      stop_words = nltk.corpus.stopwords.words('english'))\n",
    "X_tfidf = TfidVect.fit_transform(train_balanced['aspectSentences2'].tolist())\n",
    "X_tfidf = X_tfidf.toarray()"
   ]
  },
  {
   "cell_type": "code",
   "execution_count": 11,
   "metadata": {
    "collapsed": true
   },
   "outputs": [],
   "source": [
    "newX = np.concatenate((X_senti,X_tfidf), axis = 1)"
   ]
  },
  {
   "cell_type": "code",
   "execution_count": 12,
   "metadata": {
    "collapsed": true
   },
   "outputs": [],
   "source": [
    "lin_clf = sklearn.svm.LinearSVC()"
   ]
  },
  {
   "cell_type": "code",
   "execution_count": 13,
   "metadata": {
    "collapsed": true
   },
   "outputs": [],
   "source": [
    "X_train, X_test, y_train, y_test = train_test_split(newX, train_balanced['aspectRating'].tolist() )\n",
    "lin_clf.fit(X_train,y_train)\n",
    "y_predicted = lin_clf.predict(X_test)"
   ]
  },
  {
   "cell_type": "code",
   "execution_count": 14,
   "metadata": {
    "collapsed": false
   },
   "outputs": [
    {
     "name": "stdout",
     "output_type": "stream",
     "text": [
      "0.417662938681\n",
      "1.62051677594\n"
     ]
    }
   ],
   "source": [
    "print (pd.Series(y_predicted) == pd.Series(y_test)).mean()\n",
    "print ((pd.Series(y_predicted)-pd.Series(y_test))**2).mean()"
   ]
  }
 ],
 "metadata": {
  "anaconda-cloud": {},
  "kernelspec": {
   "display_name": "Python [Root]",
   "language": "python",
   "name": "Python [Root]"
  },
  "language_info": {
   "codemirror_mode": {
    "name": "ipython",
    "version": 2
   },
   "file_extension": ".py",
   "mimetype": "text/x-python",
   "name": "python",
   "nbconvert_exporter": "python",
   "pygments_lexer": "ipython2",
   "version": "2.7.12"
  }
 },
 "nbformat": 4,
 "nbformat_minor": 0
}
